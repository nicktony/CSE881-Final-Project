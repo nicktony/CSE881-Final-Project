{
 "cells": [
  {
   "cell_type": "code",
   "execution_count": 9,
   "id": "eb4dffab",
   "metadata": {},
   "outputs": [],
   "source": [
    "import geopandas as gpd\n",
    "import folium\n",
    "from folium.plugins import MarkerCluster\n",
    "from shapely.geometry import Point\n",
    "import pandas as pd"
   ]
  },
  {
   "cell_type": "code",
   "execution_count": 10,
   "id": "2ad02cd4",
   "metadata": {},
   "outputs": [],
   "source": [
    "# Categorize time labels\n",
    "def categorize_time(time_str):\n",
    "    tm = datetime.strptime(time_str, '%H:%M:%S').time()\n",
    "    if tm.hour < 6:\n",
    "        return 'Late Night'\n",
    "    elif 6 <= tm.hour < 12:\n",
    "        return 'Morning'\n",
    "    elif 12 <= tm.hour < 18:\n",
    "        return 'Afternoon'\n",
    "    elif 18 <= tm.hour:\n",
    "        return 'Evening'\n",
    "\n",
    "# Fix the pricing format issues\n",
    "def fix_price(price):\n",
    "    return price.replace('$', '').replace(',', '')"
   ]
  },
  {
   "cell_type": "code",
   "execution_count": 11,
   "id": "759ba645",
   "metadata": {},
   "outputs": [],
   "source": [
    "# Load in data\n",
    "df = pd.read_csv(r'C:\\Users\\15179\\Desktop\\CSE881 Project\\Data\\Airbnb_Open_Data.csv', low_memory=False)\n",
    "\n",
    "# Specify the columns of interest\n",
    "columns_of_interest = ['neighbourhood group', 'lat', 'long', 'price', 'host_identity_verified', 'instant_bookable', 'review rate number']\n",
    "\n",
    "# Drop rows with NaN values in specified columns\n",
    "df = df.dropna(subset=columns_of_interest)\n",
    "df = df[columns_of_interest]\n",
    "\n",
    "# Fix row in neighbourhood group that has 'brookln' instead of 'brooklyn'\n",
    "df['neighbourhood group'] = df['neighbourhood group'].replace('brookln', 'Brooklyn')\n",
    "df['neighbourhood group'].value_counts()\n",
    "\n",
    "# Fix the pricing format issues\n",
    "df['price'] = df['price'].apply(fix_price)\n",
    "df['price'] = df['price'].astype(float)\n",
    "\n",
    "# Convert `host_identity_verified` to categorical column then convert to binomial (0 & 1)\n",
    "df['host_identity_verified'] = df['host_identity_verified'].astype('category')\n",
    "df['host_identity_verified'] = df['host_identity_verified'].cat.codes\n",
    "\n",
    "# Convert `instant_bookable` to 0 and 1 categorical column\n",
    "df['instant_bookable'] = df['instant_bookable'].astype('category')\n",
    "df['instant_bookable'] = df['instant_bookable'].cat.codes\n",
    "\n",
    "# Drop columns where value counts is equal to 1\n",
    "for col in df.columns:\n",
    "    if df[col].value_counts().shape[0] == 1:\n",
    "        df = df.drop(col, axis=1)\n",
    "        \n",
    "df_airbnb = df.copy()"
   ]
  },
  {
   "cell_type": "code",
   "execution_count": 12,
   "id": "6d579b26",
   "metadata": {},
   "outputs": [],
   "source": [
    "# Import .shp file of Borough NY\n",
    "street_map = gpd.read_file(r'C:\\Users\\15179\\Desktop\\CSE881 Project\\Map\\geo_export_336838c1-1789-4dd5-84ec-a3625918536c.shp')"
   ]
  },
  {
   "cell_type": "code",
   "execution_count": 13,
   "id": "30807bfe",
   "metadata": {},
   "outputs": [
    {
     "ename": "NameError",
     "evalue": "name 'st' is not defined",
     "output_type": "error",
     "traceback": [
      "\u001b[1;31m---------------------------------------------------------------------------\u001b[0m",
      "\u001b[1;31mNameError\u001b[0m                                 Traceback (most recent call last)",
      "Cell \u001b[1;32mIn[13], line 28\u001b[0m\n\u001b[0;32m     25\u001b[0m     st\u001b[38;5;241m.\u001b[39mwrite(my_map)\n\u001b[0;32m     27\u001b[0m \u001b[38;5;66;03m# Call the function\u001b[39;00m\n\u001b[1;32m---> 28\u001b[0m \u001b[43mheatMapPage\u001b[49m\u001b[43m(\u001b[49m\u001b[43m)\u001b[49m\n",
      "Cell \u001b[1;32mIn[13], line 24\u001b[0m, in \u001b[0;36mheatMapPage\u001b[1;34m()\u001b[0m\n\u001b[0;32m     21\u001b[0m     folium\u001b[38;5;241m.\u001b[39mMarker([row[\u001b[38;5;124m'\u001b[39m\u001b[38;5;124mlat\u001b[39m\u001b[38;5;124m'\u001b[39m], row[\u001b[38;5;124m'\u001b[39m\u001b[38;5;124mlong\u001b[39m\u001b[38;5;124m'\u001b[39m]], popup\u001b[38;5;241m=\u001b[39mpopup)\u001b[38;5;241m.\u001b[39madd_to(marker_cluster)\n\u001b[0;32m     23\u001b[0m \u001b[38;5;66;03m# Display the map\u001b[39;00m\n\u001b[1;32m---> 24\u001b[0m \u001b[43mst\u001b[49m\u001b[38;5;241m.\u001b[39mmarkdown(\u001b[38;5;124m\"\u001b[39m\u001b[38;5;124m### NY Airbnb Map\u001b[39m\u001b[38;5;124m\"\u001b[39m)\n\u001b[0;32m     25\u001b[0m st\u001b[38;5;241m.\u001b[39mwrite(my_map)\n",
      "\u001b[1;31mNameError\u001b[0m: name 'st' is not defined"
     ]
    }
   ],
   "source": [
    "import folium\n",
    "from folium.plugins import MarkerCluster\n",
    "\n",
    "def heatMapPage():\n",
    "    global df_airbnb\n",
    "    global axis_choice\n",
    "\n",
    "    # Create a base map\n",
    "    map_center = [df_airbnb['lat'].mean(), df_airbnb['long'].mean()]  # Use the mean coordinates as the initial center\n",
    "    my_map = folium.Map(location=map_center, zoom_start=12)\n",
    "\n",
    "    # Add MarkerCluster for Airbnb points\n",
    "    marker_cluster = MarkerCluster().add_to(my_map)\n",
    "\n",
    "    for index, row in df_airbnb.iterrows():\n",
    "        # Create a popup with price information\n",
    "        popup_text = f\"Price: ${row['price']}\"\n",
    "        popup = folium.Popup(popup_text, parse_html=True)\n",
    "\n",
    "        # Create a marker with the popup and add it to the MarkerCluster\n",
    "        folium.Marker([row['lat'], row['long']], popup=popup).add_to(marker_cluster)\n",
    "\n",
    "    # Display the map\n",
    "    st.markdown(\"### NY Airbnb Map\")\n",
    "    st.write(my_map)\n",
    "\n",
    "# Call the function\n",
    "heatMapPage()"
   ]
  },
  {
   "cell_type": "code",
   "execution_count": null,
   "id": "5686ad3c",
   "metadata": {},
   "outputs": [],
   "source": []
  }
 ],
 "metadata": {
  "kernelspec": {
   "display_name": "Python 3 (ipykernel)",
   "language": "python",
   "name": "python3"
  },
  "language_info": {
   "codemirror_mode": {
    "name": "ipython",
    "version": 3
   },
   "file_extension": ".py",
   "mimetype": "text/x-python",
   "name": "python",
   "nbconvert_exporter": "python",
   "pygments_lexer": "ipython3",
   "version": "3.10.9"
  }
 },
 "nbformat": 4,
 "nbformat_minor": 5
}
